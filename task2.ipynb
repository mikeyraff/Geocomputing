{
 "cells": [
  {
   "cell_type": "code",
   "execution_count": 2,
   "id": "e27c1c26",
   "metadata": {},
   "outputs": [],
   "source": [
    "# Import csv module to have access to DictReader function.\n",
    "import csv\n",
    "# Create a definition for reading in the csv file that takes one argument, the csv file.\n",
    "def read_csv(filename):\n",
    "    # Create a dictionary that will get keys and values added to it from the csv file.\n",
    "    data = {}\n",
    "    # Open the filename and reads in the data using 'r' and stores it in file variable.\n",
    "    with open(filename, 'r') as file:\n",
    "        # csv.DictReader returns a class instance and makes the data easy to loop over. \n",
    "        reader = csv.DictReader(file)\n",
    "        # Loops through class instance with the csv data.\n",
    "        for row in reader:\n",
    "            # Creates key variable for the data dictionary that is the city name, which is under the 'label column' in the csv file.\n",
    "            city_name = row['label']\n",
    "            # The corresponding value is another dictionary that represents the data for that particular city.\n",
    "            data[city_name] = row\n",
    "    return data\n",
    "# Run the function on the csv file of interest and store it in a variable\n",
    "city_data = read_csv('CityPop.csv')"
   ]
  },
  {
   "cell_type": "code",
   "execution_count": 4,
   "id": "72d36ed1",
   "metadata": {},
   "outputs": [
    {
     "name": "stdout",
     "output_type": "stream",
     "text": [
      "Enter a city name: New York\n",
      "Enter a year in the format yrYYYY: yr2010\n",
      "The population of New York in yr2010 was 19.43 million.\n"
     ]
    }
   ],
   "source": [
    "# Create a definition for getting the population based on the arguments city_name and year.\n",
    "def get_pop(city_name, year):\n",
    "    # Get the inputted city name from the city data dictionary and store it in the city variable.\n",
    "    city = city_data.get(city_name)\n",
    "    # If the city name stored in 'city' exists return that city's inputted year otherwise return None.\n",
    "    if city:\n",
    "        return city.get(year)\n",
    "    return None\n",
    "# Create a main defintion that prompts the user to input a year and city name.\n",
    "def main():\n",
    "    # Asks for the user to input a city name and stores it, then checks that the city name exists in the data.\n",
    "    city_name = input(\"Enter a city name: \").strip()\n",
    "    # If the city name does not exist in the data, prompt the user to try again.\n",
    "    if city_name not in city_data:\n",
    "        print(\"City name does not exist in dataset.\")\n",
    "    # Asks the user to input a year in the proper format.\n",
    "    year = input(\"Enter a year in the format yrYYYY: \")\n",
    "    # Create a list of valid year that can be used to check if the inputted year will work.\n",
    "    valid_years = [\"yr1970\", \"yr1975\", \"yr1980\", \"yr1985\", \"yr1990\", \"yr1995\", \"yr2000\", \"yr2005\", \"yr2010\"]\n",
    "    # If the year is not part of the valid years list, then prompt the user to try again.\n",
    "    if year not in valid_years:\n",
    "        print(\"Year does not exist, check the format.\")\n",
    "    # Call the get_pop definition based on the inputted city name and year and store it.\n",
    "    population = get_pop(city_name, year)\n",
    "    # If the get_pop definiton worked properly and the population variable has float data, print it out.\n",
    "    if population:\n",
    "        print(f\"The population of {city_name} in {year} was {population} million.\")\n",
    "    # If the data is not in the right format or type by some chance, prompt the user to try again.\n",
    "    else:\n",
    "        print(\"No data available, check the inputs.\")\n",
    "# Call the main definition to start the process for the user.\n",
    "if __name__ == '__main__':\n",
    "    main()"
   ]
  }
 ],
 "metadata": {
  "kernelspec": {
   "display_name": "Python 3 (ipykernel)",
   "language": "python",
   "name": "python3"
  },
  "language_info": {
   "codemirror_mode": {
    "name": "ipython",
    "version": 3
   },
   "file_extension": ".py",
   "mimetype": "text/x-python",
   "name": "python",
   "nbconvert_exporter": "python",
   "pygments_lexer": "ipython3",
   "version": "3.9.12"
  }
 },
 "nbformat": 4,
 "nbformat_minor": 5
}
