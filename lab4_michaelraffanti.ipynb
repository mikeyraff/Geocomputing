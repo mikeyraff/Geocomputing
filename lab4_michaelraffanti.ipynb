{
 "cells": [
  {
   "cell_type": "code",
   "execution_count": 1,
   "id": "6e6bc45b",
   "metadata": {},
   "outputs": [
    {
     "name": "stdout",
     "output_type": "stream",
     "text": [
      "Tokyo, Tokyo, 35.6832085, 139.8089447, {'yr1970': 23.3, 'yr1975': 26.61, 'yr1980': 28.55, 'yr1985': 30.3, 'yr1990': 32.53, 'yr1995': 33.59, 'yr2000': 34.45, 'yr2005': 35.62, 'yr2010': 36.67}\n",
      "New_Delhi, New Delhi, 28.6082802, 77.2008133, {'yr1970': 3.53, 'yr1975': 4.43, 'yr1980': 5.56, 'yr1985': 7.33, 'yr1990': 9.73, 'yr1995': 12.41, 'yr2000': 15.73, 'yr2005': 19.49, 'yr2010': 22.16}\n",
      "Sao_Paulo, Sao Paulo, -23.5628395, -46.6546402, {'yr1970': 7.62, 'yr1975': 9.61, 'yr1980': 12.09, 'yr1985': 13.39, 'yr1990': 14.78, 'yr1995': 15.95, 'yr2000': 17.1, 'yr2005': 18.65, 'yr2010': 20.26}\n",
      "Mumbai, Mumbai, 18.93013, 72.8300934, {'yr1970': 5.81, 'yr1975': 7.08, 'yr1980': 8.66, 'yr1985': 10.34, 'yr1990': 12.31, 'yr1995': 14.11, 'yr2000': 16.09, 'yr2005': 18.21, 'yr2010': 20.04}\n",
      "Mexico_City, Mexico City, 19.4319592, -99.1331635, {'yr1970': 8.77, 'yr1975': 10.69, 'yr1980': 13.01, 'yr1985': 14.11, 'yr1990': 15.31, 'yr1995': 16.81, 'yr2000': 18.02, 'yr2005': 18.73, 'yr2010': 19.46}\n",
      "New_York, New York, 40.7820015, -73.8327026, {'yr1970': 16.19, 'yr1975': 15.88, 'yr1980': 15.6, 'yr1985': 15.83, 'yr1990': 16.09, 'yr1995': 16.94, 'yr2000': 17.85, 'yr2005': 18.73, 'yr2010': 19.43}\n",
      "Shanghai, Shanghai, 31.2551594, 121.4747009, {'yr1970': 6.04, 'yr1975': 5.63, 'yr1980': 5.97, 'yr1985': 6.85, 'yr1990': 7.82, 'yr1995': 10.17, 'yr2000': 13.22, 'yr2005': 15.18, 'yr2010': 16.58}\n",
      "Kolkata, Kolkata, 22.5650902, 88.3707809, {'yr1970': 6.93, 'yr1975': 7.89, 'yr1980': 9.03, 'yr1985': 9.95, 'yr1990': 10.89, 'yr1995': 11.92, 'yr2000': 13.06, 'yr2005': 14.28, 'yr2010': 15.55}\n",
      "Dhaka, Dhaka, 23.7132301, 90.3995667, {'yr1970': 0.0, 'yr1975': 0.0, 'yr1980': 0.0, 'yr1985': 4.66, 'yr1990': 6.62, 'yr1995': 8.33, 'yr2000': 10.28, 'yr2005': 12.56, 'yr2010': 14.65}\n",
      "Karachi, Karachi, 24.9267101, 67.0343704, {'yr1970': 0.0, 'yr1975': 3.99, 'yr1980': 5.05, 'yr1985': 6.03, 'yr1990': 7.15, 'yr1995': 8.47, 'yr2000': 10.02, 'yr2005': 11.62, 'yr2010': 13.12}\n",
      "Buenos_Aires, Buenos Aires, -34.6085091, -58.3734894, {'yr1970': 8.1, 'yr1975': 8.74, 'yr1980': 9.42, 'yr1985': 9.96, 'yr1990': 10.51, 'yr1995': 11.15, 'yr2000': 11.85, 'yr2005': 12.55, 'yr2010': 13.07}\n",
      "Los_Angeles, Los Angeles, 34.0534897, -118.2453232, {'yr1970': 8.38, 'yr1975': 8.93, 'yr1980': 9.51, 'yr1985': 10.18, 'yr1990': 10.88, 'yr1995': 11.34, 'yr2000': 11.81, 'yr2005': 12.3, 'yr2010': 12.76}\n",
      "Beijing, Beijing, 39.9065704, 116.3876495, {'yr1970': 4.43, 'yr1975': 4.83, 'yr1980': 5.37, 'yr1985': 6.02, 'yr1990': 6.79, 'yr1995': 8.14, 'yr2000': 9.76, 'yr2005': 11.45, 'yr2010': 12.39}\n",
      "Rio_de_Janeiro, Rio de Janeiro, -22.9121609, -43.1750107, {'yr1970': 6.64, 'yr1975': 7.56, 'yr1980': 8.58, 'yr1985': 9.09, 'yr1990': 9.59, 'yr1995': 10.17, 'yr2000': 10.8, 'yr2005': 11.37, 'yr2010': 11.95}\n",
      "Manila, Manila, 14.58743, 120.9836807, {'yr1970': 3.53, 'yr1975': 5.0, 'yr1980': 5.95, 'yr1985': 6.89, 'yr1990': 7.97, 'yr1995': 9.4, 'yr2000': 9.96, 'yr2005': 10.76, 'yr2010': 11.63}\n",
      "Osaka_Kobe, Osaka-Kobe, 35.0763016, 133.5659943, {'yr1970': 9.41, 'yr1975': 9.84, 'yr1980': 9.99, 'yr1985': 10.35, 'yr1990': 11.04, 'yr1995': 11.05, 'yr2000': 11.17, 'yr2005': 11.26, 'yr2010': 11.34}\n",
      "Cairo, Cairo, 37.0051003, -89.1762695, {'yr1970': 5.58, 'yr1975': 6.45, 'yr1980': 7.35, 'yr1985': 8.33, 'yr1990': 9.06, 'yr1995': 9.71, 'yr2000': 10.17, 'yr2005': 10.56, 'yr2010': 11.0}\n",
      "Lagos, Lagos, 6.45471, 3.3887601, {'yr1970': 0.0, 'yr1975': 0.0, 'yr1980': 0.0, 'yr1985': 0.0, 'yr1990': 0.0, 'yr1995': 5.97, 'yr2000': 7.23, 'yr2005': 8.77, 'yr2010': 10.58}\n",
      "Moscow, Moscow, 55.7569695, 37.6150208, {'yr1970': 7.11, 'yr1975': 7.62, 'yr1980': 8.14, 'yr1985': 8.58, 'yr1990': 8.99, 'yr1995': 9.2, 'yr2000': 10.0, 'yr2005': 10.42, 'yr2010': 10.55}\n",
      "Istanbul, Istanbul, 41.0409584, 28.9857998, {'yr1970': 0.0, 'yr1975': 0.0, 'yr1980': 4.4, 'yr1985': 5.41, 'yr1990': 6.55, 'yr1995': 7.67, 'yr2000': 8.74, 'yr2005': 9.71, 'yr2010': 10.52}\n",
      "Paris, Paris, 48.8569298, 2.3412001, {'yr1970': 8.35, 'yr1975': 8.56, 'yr1980': 8.67, 'yr1985': 8.96, 'yr1990': 9.33, 'yr1995': 9.51, 'yr2000': 9.74, 'yr2005': 10.11, 'yr2010': 10.49}\n",
      "Seoul, Seoul, 37.5150185, 127.0164719, {'yr1970': 5.31, 'yr1975': 6.81, 'yr1980': 8.26, 'yr1985': 9.55, 'yr1990': 10.54, 'yr1995': 10.26, 'yr2000': 9.92, 'yr2005': 9.83, 'yr2010': 9.77}\n",
      "Chongqing, Chongqing, 29.5509491, 106.5193481, {'yr1970': 0.0, 'yr1975': 0.0, 'yr1980': 0.0, 'yr1985': 0.0, 'yr1990': 0.0, 'yr1995': 0.0, 'yr2000': 0.0, 'yr2005': 0.0, 'yr2010': 9.4}\n",
      "Jakarta, Jakarta, -6.1714902, 106.8275223, {'yr1970': 3.92, 'yr1975': 4.81, 'yr1980': 5.98, 'yr1985': 7.01, 'yr1990': 8.18, 'yr1995': 8.32, 'yr2000': 8.39, 'yr2005': 8.79, 'yr2010': 9.21}\n",
      "Chicago, Chicago, 41.8842506, -87.6324463, {'yr1970': 7.11, 'yr1975': 7.16, 'yr1980': 7.22, 'yr1985': 7.29, 'yr1990': 7.37, 'yr1995': 7.84, 'yr2000': 8.33, 'yr2005': 8.82, 'yr2010': 9.2}\n",
      "Shenzhen, Shenzhen, 22.5562191, 114.1187897, {'yr1970': 0.0, 'yr1975': 0.0, 'yr1980': 0.0, 'yr1985': 0.0, 'yr1990': 0.0, 'yr1995': 0.0, 'yr2000': 0.0, 'yr2005': 7.93, 'yr2010': 9.01}\n",
      "Lima, Lima, -12.0561399, -77.0268021, {'yr1970': 0.0, 'yr1975': 3.7, 'yr1980': 4.44, 'yr1985': 5.12, 'yr1990': 5.84, 'yr1995': 6.58, 'yr2000': 7.29, 'yr2005': 8.08, 'yr2010': 8.94}\n",
      "Guangzhou, Guangzhou, 23.1133709, 113.2552338, {'yr1970': 0.0, 'yr1975': 0.0, 'yr1980': 0.0, 'yr1985': 0.0, 'yr1990': 0.0, 'yr1995': 0.0, 'yr2000': 7.33, 'yr2005': 8.16, 'yr2010': 8.88}\n",
      "Kinshasa, Kinshasa, -4.3122201, 15.2895298, {'yr1970': 0.0, 'yr1975': 0.0, 'yr1980': 0.0, 'yr1985': 0.0, 'yr1990': 0.0, 'yr1995': 0.0, 'yr2000': 0.0, 'yr2005': 0.0, 'yr2010': 8.75}\n",
      "London, London, 51.5064316, -0.12719, {'yr1970': 7.51, 'yr1975': 7.55, 'yr1980': 7.66, 'yr1985': 7.67, 'yr1990': 7.65, 'yr1995': 7.91, 'yr2000': 8.22, 'yr2005': 8.51, 'yr2010': 8.63}\n",
      "Tianjin, Tianjin, 39.1449394, 117.2005692, {'yr1970': 3.32, 'yr1975': 0.0, 'yr1980': 0.0, 'yr1985': 0.0, 'yr1990': 0.0, 'yr1995': 0.0, 'yr2000': 6.67, 'yr2005': 7.28, 'yr2010': 0.0}\n",
      "Hong_Kong, Hong Kong, 22.3361568, 114.1869659, {'yr1970': 3.46, 'yr1975': 3.94, 'yr1980': 4.61, 'yr1985': 5.07, 'yr1990': 5.68, 'yr1995': 6.21, 'yr2000': 6.67, 'yr2005': 0.0, 'yr2010': 0.0}\n",
      "Tehran, Tehran, 35.6895409, 51.4146843, {'yr1970': 3.29, 'yr1975': 4.27, 'yr1980': 5.08, 'yr1985': 5.84, 'yr1990': 6.36, 'yr1995': 6.69, 'yr2000': 6.88, 'yr2005': 0.0, 'yr2010': 0.0}\n",
      "Chennai, Chennai, 13.0503302, 80.188591, {'yr1970': 0.0, 'yr1975': 0.0, 'yr1980': 0.0, 'yr1985': 4.75, 'yr1990': 5.34, 'yr1995': 5.84, 'yr2000': 0.0, 'yr2005': 0.0, 'yr2010': 0.0}\n",
      "Bangkok, Bangkok, 13.7533503, 100.5048294, {'yr1970': 0.0, 'yr1975': 3.84, 'yr1980': 4.72, 'yr1985': 5.28, 'yr1990': 5.89, 'yr1995': 6.11, 'yr2000': 0.0, 'yr2005': 0.0, 'yr2010': 0.0}\n",
      "Saint_Petersburg, St. Petersburg, 59.9331818, 30.3060303, {'yr1970': 3.98, 'yr1975': 4.33, 'yr1980': 4.64, 'yr1985': 4.84, 'yr1990': 4.99, 'yr1995': 0.0, 'yr2000': 0.0, 'yr2005': 0.0, 'yr2010': 0.0}\n",
      "Madrid, Madrid, 40.4514008, -3.5631499, {'yr1970': 3.52, 'yr1975': 3.89, 'yr1980': 4.25, 'yr1985': 0.0, 'yr1990': 0.0, 'yr1995': 0.0, 'yr2000': 0.0, 'yr2005': 0.0, 'yr2010': 0.0}\n",
      "Philadelphia, Philadelphia, 39.9522781, -75.1624527, {'yr1970': 4.4, 'yr1975': 4.47, 'yr1980': 4.54, 'yr1985': 0.0, 'yr1990': 0.0, 'yr1995': 0.0, 'yr2000': 0.0, 'yr2005': 0.0, 'yr2010': 0.0}\n",
      "Detroit, Detroit, 42.3316803, -83.0479202, {'yr1970': 3.97, 'yr1975': 3.89, 'yr1980': 0.0, 'yr1985': 0.0, 'yr1990': 0.0, 'yr1995': 0.0, 'yr2000': 0.0, 'yr2005': 0.0, 'yr2010': 0.0}\n"
     ]
    }
   ],
   "source": [
    "# Import csv to read in the CityPop-1 data\n",
    "import csv\n",
    "\n",
    "# Defining the City class with the required attributes in the __init__ method\n",
    "class City:\n",
    "    def __init__(self, name, label, latitude, longitude, populations):\n",
    "        self.name = name\n",
    "        self.label = label\n",
    "        self.latitude = latitude\n",
    "        self.longitude = longitude\n",
    "        self.populations = populations  # This is expected to be a dictionary where keys are years\n",
    "# __str__ returns all the attributes \n",
    "    def __str__(self):\n",
    "        return f\"{self.name}, {self.label}, {self.latitude}, {self.longitude}, {self.populations}\"\n",
    "    \n",
    "# Reading data from the csv and creating city instances\n",
    "Cities = []  # This list will store the instances of the City objects\n",
    "\n",
    "# Opens the csv file to allow access and manipulate the data\n",
    "with open('CityPop-1.csv', mode='r') as csvfile:\n",
    "    reader = csv.DictReader(csvfile)\n",
    "    for row in reader:\n",
    "        # Extracting data from each row and creating a City instance\n",
    "        name = row['city']\n",
    "        label = row['label']\n",
    "        latitude = float(row['latitude'])\n",
    "        longitude = float(row['longitude'])\n",
    "        populations = {year: float(row[year]) for year in ['yr1970', 'yr1975', 'yr1980', 'yr1985', 'yr1990', 'yr1995', 'yr2000', 'yr2005', 'yr2010']}\n",
    "        city = City(name, label, latitude, longitude, populations)\n",
    "        Cities.append(city)\n",
    "\n",
    "# Printing out the attributes of all City instances\n",
    "for city in Cities:\n",
    "    print(city)"
   ]
  },
  {
   "cell_type": "code",
   "execution_count": 2,
   "id": "3a0f5396",
   "metadata": {},
   "outputs": [
    {
     "name": "stdout",
     "output_type": "stream",
     "text": [
      "Distance between Tokyo and New Delhi is 5848.90 km.\n",
      "The population change in Tokyo from yr1970 to yr1990 is 9.23\n"
     ]
    }
   ],
   "source": [
    "# Importing the required modules\n",
    "import csv\n",
    "import math\n",
    "\n",
    "# Defining the City class same way in the previous cell\n",
    "class City:\n",
    "    def __init__(self, name, label, latitude, longitude, populations):\n",
    "        self.name = name\n",
    "        self.label = label\n",
    "        self.latitude = latitude\n",
    "        self.longitude = longitude\n",
    "        self.populations = populations\n",
    "\n",
    "    def __str__(self):\n",
    "        return f\"{self.name}, {self.label}, {self.latitude}, {self.longitude}, {self.populations}\"\n",
    "# Distance defintion that gets the two cities and uses the Haversine formula to calculate the distance  \n",
    "    def printDistance(self, othercity):\n",
    "        R = 6371  # Radius of the Earth in km\n",
    "        # Use math module to convert degrees to radians\n",
    "        lat1_rad = math.radians(self.latitude)\n",
    "        lat2_rad = math.radians(othercity.latitude)\n",
    "        delta_lat = math.radians(othercity.latitude - self.latitude)\n",
    "        delta_lon = math.radians(othercity.longitude - self.longitude)\n",
    "        # Haversine equation using trig from math module\n",
    "        a = math.sin(delta_lat/2) * math.sin(delta_lat/2) + math.cos(lat1_rad) * math.cos(lat2_rad) * math.sin(delta_lon/2) * math.sin(delta_lon/2)\n",
    "        c = 2 * math.atan2(math.sqrt(a), math.sqrt(1-a))\n",
    "        distance = R * c\n",
    "        print(f\"Distance between {self.label} and {othercity.label} is {distance:.2f} km.\")\n",
    "# Pop change definition gets the city of interest and two years to compare populations    \n",
    "    def printPopChange(self, year1, year2):\n",
    "        # Calculating the population change\n",
    "        if year1 in self.populations and year2 in self.populations:\n",
    "            pop_change = self.populations[year2] - self.populations[year1]\n",
    "            print(f\"The population change in {self.name} from {year1} to {year2} is {pop_change}\")\n",
    "        else:\n",
    "            print(\"One or both of the years are not available in the data.\")\n",
    "Cities = []\n",
    "\n",
    "# Opens the csv file same as previous cell\n",
    "with open('CityPop-1.csv', mode='r') as csvfile:\n",
    "    reader = csv.DictReader(csvfile)\n",
    "    for row in reader:\n",
    "        name = row['city']\n",
    "        label = row['label']\n",
    "        latitude = float(row['latitude'])\n",
    "        longitude = float(row['longitude'])\n",
    "        populations = {year: float(row[year]) for year in ['yr1970', 'yr1975', 'yr1980', 'yr1985', 'yr1990', 'yr1995', 'yr2000', 'yr2005', 'yr2010']}\n",
    "        city = City(name, label, latitude, longitude, populations)\n",
    "        Cities.append(city)\n",
    "        \n",
    "# Test the definitions\n",
    "Cities[0].printDistance(Cities[1])  \n",
    "Cities[0].printPopChange('yr1970', 'yr1990')"
   ]
  },
  {
   "cell_type": "code",
   "execution_count": 3,
   "id": "3c4bff05",
   "metadata": {},
   "outputs": [
    {
     "data": {
      "image/png": "[encoded data removed]",
      "text/plain": [
       "<Figure size 720x432 with 1 Axes>"
      ]
     },
     "metadata": {
      "needs_background": "light"
     },
     "output_type": "display_data"
    }
   ],
   "source": [
    "# Import in order to create plots\n",
    "import matplotlib.pyplot as plt\n",
    "# Choose any two cities\n",
    "city1 = Cities[6]\n",
    "city2 = Cities[12]\n",
    "\n",
    "# Years from 1970 to 2010 for the x-axis\n",
    "years = ['yr1970', 'yr1975', 'yr1980', 'yr1985', 'yr1990', 'yr1995', 'yr2000', 'yr2005', 'yr2010']\n",
    "\n",
    "# Extracting population data for both cities\n",
    "pop1 = [city1.populations[year] for year in years]\n",
    "pop2 = [city2.populations[year] for year in years]\n",
    "\n",
    "# Creating the plot and style of plot using marker and linestyle\n",
    "plt.figure(figsize=(10, 6))\n",
    "plt.plot(years, pop1, marker='o', linestyle='', color='b', label=city1.name)\n",
    "plt.plot(years, pop2, marker='o', linestyle='', color='r', label=city2.name)\n",
    "\n",
    "# Adding titles and labels to the plot\n",
    "plt.title('Population from 1970 to 2010')\n",
    "plt.xlabel('Year')\n",
    "plt.ylabel('Population')\n",
    "plt.legend()\n",
    "\n",
    "# Show the plot\n",
    "plt.show()"
   ]
  }
 ],
 "metadata": {
  "kernelspec": {
   "display_name": "Python 3 (ipykernel)",
   "language": "python",
   "name": "python3"
  },
  "language_info": {
   "codemirror_mode": {
    "name": "ipython",
    "version": 3
   },
   "file_extension": ".py",
   "mimetype": "text/x-python",
   "name": "python",
   "nbconvert_exporter": "python",
   "pygments_lexer": "ipython3",
   "version": "3.9.12"
  }
 },
 "nbformat": 4,
 "nbformat_minor": 5
}
