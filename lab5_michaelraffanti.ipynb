{
 "cells": [
  {
   "cell_type": "code",
   "execution_count": 3,
   "id": "2bef8432",
   "metadata": {},
   "outputs": [
    {
     "name": "stdout",
     "output_type": "stream",
     "text": [
      "NDVI image created and saved to output_ndvi.tif\n"
     ]
    }
   ],
   "source": [
    "from osgeo import gdal\n",
    "import numpy as np\n",
    "\n",
    "def calculate_ndvi(nir_band_path, red_band_path, output_path):\n",
    "    # Open the NIR and red band images\n",
    "    nir_dataset = gdal.Open(nir_band_path, gdal.GA_ReadOnly)\n",
    "    red_dataset = gdal.Open(red_band_path, gdal.GA_ReadOnly)\n",
    "\n",
    "    # Check if the datasets can be opened\n",
    "    if nir_dataset is None or red_dataset is None:\n",
    "        print(\"Error: Could not open input datasets.\")\n",
    "        return\n",
    "\n",
    "    # Read the bands as arrays\n",
    "    nir_band = nir_dataset.GetRasterBand(1).ReadAsArray().astype(np.float32)\n",
    "    red_band = red_dataset.GetRasterBand(1).ReadAsArray().astype(np.float32)\n",
    "\n",
    "    # Calculate NDVI\n",
    "    ndvi = (nir_band - red_band) / (nir_band + red_band)\n",
    "\n",
    "    # Create the output dataset\n",
    "    driver = gdal.GetDriverByName('GTiff')\n",
    "    out_dataset = driver.Create(output_path, nir_dataset.RasterXSize, nir_dataset.RasterYSize, 1, gdal.GDT_Float32)\n",
    "    out_dataset.SetGeoTransform(nir_dataset.GetGeoTransform())\n",
    "    out_dataset.SetProjection(nir_dataset.GetProjection())\n",
    "\n",
    "    # Write the NDVI array to the output dataset\n",
    "    out_band = out_dataset.GetRasterBand(1)\n",
    "    out_band.WriteArray(ndvi)\n",
    "    # Close the datasets\n",
    "    out_dataset = None\n",
    "    print(f\"NDVI image created and saved to {output_path}\")\n",
    "\n",
    "# Paths to the input NIR and Red band images and the output NDVI image\n",
    "nir_band_path = '/Users/mikeyraffanti/Documents/geog378/Lab5/landsat/L71026029_02920000609_B40_CLIP.TIF'\n",
    "red_band_path = '/Users/mikeyraffanti/Documents/geog378/Lab5/landsat/L71026029_02920000609_B30_CLIP.TIF'\n",
    "output_ndvi_path = 'output_ndvi.tif'\n",
    "\n",
    "# Run the function to create the NDVI image\n",
    "calculate_ndvi(nir_band_path, red_band_path, output_ndvi_path)"
   ]
  }
 ],
 "metadata": {
  "kernelspec": {
   "display_name": "Python 3 (ipykernel)",
   "language": "python",
   "name": "python3"
  },
  "language_info": {
   "codemirror_mode": {
    "name": "ipython",
    "version": 3
   },
   "file_extension": ".py",
   "mimetype": "text/x-python",
   "name": "python",
   "nbconvert_exporter": "python",
   "pygments_lexer": "ipython3",
   "version": "3.11.5"
  }
 },
 "nbformat": 4,
 "nbformat_minor": 5
}
